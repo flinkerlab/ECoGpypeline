{
 "cells": [
  {
   "cell_type": "markdown",
   "metadata": {},
   "source": [
    "ECoG data pipeline for functional cortical mapping by Jay Jeschke and Daniel Maksumov."
   ]
  },
  {
   "cell_type": "code",
   "execution_count": 1,
   "metadata": {},
   "outputs": [],
   "source": [
    "import matplotlib.pyplot as plt\n",
    "import numpy as np\n",
    "import mne\n",
    "from mne.io import read_raw_edf\n",
    "import os\n",
    "import os.path as op\n",
    "plt.ion()\n",
    "plt.style.use('seaborn-white')\n",
    "import sys\n",
    "from scipy import signal\n",
    "import math\n",
    "import h5py\n",
    "import warnings\n",
    "import scipy.stats as stats\n",
    "import scipy.signal as sig\n",
    "from ecogMethods import *\n",
    "import hdf5storage\n",
    "\n",
    "np.set_printoptions( precision=5)\n",
    "\n",
    "\n",
    "SJ = 'NY723' # \"Subject ID\"\n",
    "\n",
    "# the_misc contains channels we can ignore when plotting\n",
    "# check raw.ch_names to edit if needed\n",
    "the_misc = ['C175','C176','EKG1','EKG2','ECG1','ECG2','EKGL','EKGR',\n",
    "            'ECGL','ECGR','LEKG','REKG','LECG','RECG','DC1','DC2','DC3',\n",
    "            'DC4','DC5','DC6','DC7','DC8','DC9','DC10','DC11','DC12',\n",
    "            \"TRIG\",\"OSAT\",'PR','Pleth','STI 014']\n",
    "\n",
    "\n",
    "# Directory of your EDF file\n",
    "home_path = os.getcwd() # choose path for resulting data folders\n",
    "\n",
    "\n",
    "edf_path = op.join(home_path)# example of path where EDF lives \n",
    "edf_file = SJ + '_FunctionalMapping_512.EDF'# name of EDF file\n",
    "\n",
    "# What tasks we're running\n",
    "tasks = ['PicN','VisRead','AudRep','AudN','SenComp'] \n",
    "clrs = 'bcgmr' #plotting colors corresponding to the above tasks\n",
    "\n",
    "\n",
    "\n",
    "# Bad channel detection presets, if automatic_bads=True, bad channels are detected automatically\n",
    "# if manual_bads is also true, clickable channels will be presented with detected bads already selected\n",
    "automatic_bads=True\n",
    "manual_bads=True\n",
    "#If analysis has already been done in MATLAB, set from_mat to True and skip down to the last 2 cells for plotting\n",
    "from_mat=False\n",
    "\n",
    "\n",
    "matDir='' #MATLAB directory where Functional mappying data lives\n",
    "matGlobals= ''# path with file name for subject globals\n"
   ]
  },
  {
   "cell_type": "code",
   "execution_count": 2,
   "metadata": {
    "scrolled": true
   },
   "outputs": [
    {
     "name": "stdout",
     "output_type": "stream",
     "text": [
      "Extracting EDF parameters from R:\\Epilepsy_ECOG\\CodeBase\\Python\\NY723_FunctionalMapping_512.EDF...\n",
      "EDF file detected\n",
      "Setting channel info structure...\n",
      "Creating raw.info structure...\n",
      "Reading 0 ... 1086079  =      0.000 ...  2121.248 secs...\n"
     ]
    }
   ],
   "source": [
    "# Put EDF data into raw object\n",
    "raw = read_raw_edf(op.join(edf_path, edf_file), preload=True,misc=the_misc)"
   ]
  },
  {
   "cell_type": "code",
   "execution_count": 3,
   "metadata": {},
   "outputs": [],
   "source": [
    "# Which DC channel the triggers and mic are in\n",
    "trigger_name= 'DC1' \n",
    "mic_name = 'DC2'\n",
    "\n",
    "\n",
    "# Sampling frequency or rate\n",
    "srate = int(raw.info[\"sfreq\"])\n",
    "try:\n",
    "    final_index = next(x for x,val in enumerate(raw.ch_names) \n",
    "                       if val.startswith('DC1') or val.startswith('ECG') \n",
    "                       or val.startswith('EKG')) #pick the first channel you'd like to exclude\n",
    "except:\n",
    "    print(raw.ch_names)\n",
    "    input('Pick label of first channel to exclude after ECoG channels:  ')\n",
    "\n",
    "\n",
    "# Creates list of electrode names\n",
    "labels = raw.ch_names[0 : final_index]\n",
    "\n",
    "# Creates list of electrodes\n",
    "elecs = [i for i in range(final_index)]"
   ]
  },
  {
   "cell_type": "code",
   "execution_count": 20,
   "metadata": {
    "scrolled": true
   },
   "outputs": [
    {
     "name": "stdout",
     "output_type": "stream",
     "text": [
      "Bad electrodes:  [0, 1, 98, 35, 107, 118, 157, 92, 93, 158, 106]\n"
     ]
    }
   ],
   "source": [
    "# Enter bad electrodes manually, or leave bad_elecs empty and select from the plot\n",
    "# To select/unselect bad channels in the plot, click the label of the channel on the left of the plot\n",
    "# we suggest you do manually select bad channels along and not rely soley on the suggested bad channels\n",
    "bad_elecs = [] \n",
    "\n",
    "\n",
    "\n",
    "if not bad_elecs:\n",
    "    if automatic_bads:\n",
    "        data,times = raw.copy()[:len(elecs),0:30*srate]## gets data from first 30 seconds\n",
    "        # bad channels are suggested based on deviation from average channel amplitude and \n",
    "        # spectral power between 55-65 Hz\n",
    "        # if too many good channels are being rejected increase the threshold\n",
    "        suggested_bads= detect_bads(data, low_bound=55, up_bound=65,thresh=.97)\n",
    "        raw.info['bads']=[raw.ch_names[i] for i in suggested_bads]\n",
    "        \n",
    "        \n",
    "        if manual_bads:\n",
    "            %matplotlib qt5\n",
    "            raw.plot(block = True, duration=5, scalings = dict(eeg=10e-5,misc=10e-2))\n",
    "            bad_elecs=[raw.ch_names.index(i) for i in raw.info['bads']]\n",
    "        else:\n",
    "            bad_elecs=[raw.ch_names.index(i) for i in raw.info['bads']]\n",
    "    else:\n",
    "        %matplotlib qt5\n",
    "        raw.plot(block = True, duration=5, scalings = dict(eeg=10e-5,misc=10e-2))\n",
    "        bad_elecs=[raw.ch_names.index(i) for i in raw.info['bads']]\n",
    "print('Bad electrodes: ',bad_elecs)"
   ]
  },
  {
   "cell_type": "code",
   "execution_count": 5,
   "metadata": {
    "scrolled": false
   },
   "outputs": [
    {
     "name": "stdout",
     "output_type": "stream",
     "text": [
      "Created directory R:\\Epilepsy_ECOG\\CodeBase\\Python\\subjsPython\\NY723\n",
      "Created directory R:\\Epilepsy_ECOG\\CodeBase\\Python\\subjsPython\\NY723\\analysis\n",
      "Created directory R:\\Epilepsy_ECOG\\CodeBase\\Python\\subjsPython\\NY723\\analysis\\PicN\n",
      "Created directory R:\\Epilepsy_ECOG\\CodeBase\\Python\\subjsPython\\NY723\\data\n",
      "Created directory R:\\Epilepsy_ECOG\\CodeBase\\Python\\subjsPython\\NY723\\data\\PicN\n",
      "Saving global variables in R:\\Epilepsy_ECOG\\CodeBase\\Python\\subjsPython\\NY723\\analysis\\PicN\\subj_globals.h5\n",
      "[]\n",
      "Created directory R:\\Epilepsy_ECOG\\CodeBase\\Python\\subjsPython\\NY723\\analysis\\VisRead\n",
      "Created directory R:\\Epilepsy_ECOG\\CodeBase\\Python\\subjsPython\\NY723\\data\\VisRead\n",
      "Saving global variables in R:\\Epilepsy_ECOG\\CodeBase\\Python\\subjsPython\\NY723\\analysis\\VisRead\\subj_globals.h5\n",
      "[]\n",
      "Created directory R:\\Epilepsy_ECOG\\CodeBase\\Python\\subjsPython\\NY723\\analysis\\AudRep\n",
      "Created directory R:\\Epilepsy_ECOG\\CodeBase\\Python\\subjsPython\\NY723\\data\\AudRep\n",
      "Saving global variables in R:\\Epilepsy_ECOG\\CodeBase\\Python\\subjsPython\\NY723\\analysis\\AudRep\\subj_globals.h5\n",
      "[]\n",
      "Created directory R:\\Epilepsy_ECOG\\CodeBase\\Python\\subjsPython\\NY723\\analysis\\AudN\n",
      "Created directory R:\\Epilepsy_ECOG\\CodeBase\\Python\\subjsPython\\NY723\\data\\AudN\n",
      "Saving global variables in R:\\Epilepsy_ECOG\\CodeBase\\Python\\subjsPython\\NY723\\analysis\\AudN\\subj_globals.h5\n",
      "[]\n",
      "Created directory R:\\Epilepsy_ECOG\\CodeBase\\Python\\subjsPython\\NY723\\analysis\\SenComp\n",
      "Created directory R:\\Epilepsy_ECOG\\CodeBase\\Python\\subjsPython\\NY723\\data\\SenComp\n",
      "Saving global variables in R:\\Epilepsy_ECOG\\CodeBase\\Python\\subjsPython\\NY723\\analysis\\SenComp\\subj_globals.h5\n",
      "[]\n"
     ]
    }
   ],
   "source": [
    "#Creating global variables for each task\n",
    "for task in tasks:\n",
    "    create_subj_globals(SJ, task, srate, srate, elecs, bad_elecs, TANK=[], root_path=home_path) "
   ]
  },
  {
   "cell_type": "code",
   "execution_count": 21,
   "metadata": {
    "scrolled": true
   },
   "outputs": [
    {
     "name": "stdout",
     "output_type": "stream",
     "text": [
      "Found 5 blocks for NY723\n",
      "\n",
      "task order:  ['AudRep', 'AudN', 'PicN', 'VisRead', 'SenComp']\n",
      "Block index times are as follows: [[90130, 314176], [319299, 479283], [484406, 669451], [674574, 825420], [830543, 1086079]]\n"
     ]
    }
   ],
   "source": [
    "trigger_data, trigger_times = raw.copy().pick_channels([trigger_name])[:,:]\n",
    "mic_channel = raw.copy().pick_channels([mic_name])[:,:][0]\n",
    "\n",
    "order ,clips_indices = extract_blocks(trigger_data, trigger_times, SJ, tasks, srate, \n",
    "                                      blockMin=180 ,eventMin=.8,gap=srate*10, \n",
    "                                      trigger_len=3, thresh=.3)\n",
    "\n",
    "#If reordering tasks and ploting color for tasks based on block triggers dectected above\n",
    "#make true:\n",
    "reorder_tasks=True\n",
    "\n",
    "if reorder_tasks:\n",
    "    clrs= [clrs[i] for i in order]\n",
    "    tasks= [tasks[i] for i in order]\n",
    "\n",
    "#plotting will show each task/block in a unique color \n",
    "#for visual confirmation of start/stop indices\n",
    "# If plotting triggers, make true:\n",
    "\n",
    "plot_trigger = True\n",
    "\n",
    "if plot_trigger:\n",
    "    %matplotlib qt5\n",
    "    \n",
    "    for i,ind in enumerate(clips_indices):\n",
    "        start= clips_indices[i][0]\n",
    "        end = clips_indices[i][1]\n",
    "        t, = plt.gca().plot(np.arange(start,end),trigger_data[0][start:end],lw=2,c=clrs[i]) \n",
    "        \n",
    "#for optimizing the block marker locater: gap is the minimum time gap between blocks, \n",
    "#thresh is the threshold that a trigger must exceed above the zero-meaned baseline to be counted"
   ]
  },
  {
   "cell_type": "code",
   "execution_count": 7,
   "metadata": {},
   "outputs": [],
   "source": [
    "#if you prefer, you can manually enter block indices in the following format:\n",
    "# clips_indices= [[block 1 start index,stop index], [block 2 start index,stop index]...]\n",
    "#remember to multiply clock time by sample rate\n",
    "# clips_indices[0][0] = 180000\n",
    "\n"
   ]
  },
  {
   "cell_type": "code",
   "execution_count": 8,
   "metadata": {},
   "outputs": [],
   "source": [
    "#saving data specific to each task\n",
    "for cnt, task in enumerate(tasks):\n",
    "    x = get_subj_globals(SJ,task, root_path=home_path, from_mat=from_mat, matDir=matDir)\n",
    "    time_i = clips_indices[cnt][0]\n",
    "    time_f = clips_indices[cnt][1]\n",
    "    trigger = trigger_data[:, time_i:time_f]    \n",
    "    mic = mic_channel[:, time_i:time_f]\n",
    "    gdat = raw[:,:][0][x.elecs, time_i:time_f]\n",
    "    gdat = gdat*10**6 #scaling from microvolts to volts\n",
    "    labels = [np.string_(ch) for ch in labels]    #need to prompt user for event minimum duration\n",
    "    labels = np.asarray(labels)\n",
    "    \n",
    "    save_h5(op.join(x.DTdir,'gdat.h5'), \"gdat\", gdat)\n",
    "    save_h5(op.join(x.DTdir,'labels.h5'), \"labels\", labels)\n",
    "    save_h5(op.join(x.DTdir,'trigger.h5'), \"trigger\", trigger)\n",
    "    save_h5(op.join(x.DTdir,'mic.h5'), \"mic\", mic)"
   ]
  },
  {
   "cell_type": "code",
   "execution_count": 9,
   "metadata": {},
   "outputs": [
    {
     "name": "stdout",
     "output_type": "stream",
     "text": [
      "Found 104 events for NY723 AudRep \n",
      "\n",
      "Found 104 events for NY723 AudN \n",
      "\n"
     ]
    },
    {
     "name": "stderr",
     "output_type": "stream",
     "text": [
      "C:\\Users\\jeschj01\\anaconda3\\lib\\site-packages\\ipykernel_launcher.py:8: UserWarning: Saving and overwriting data for:  NY723 AudRep \n",
      "\n",
      "  \n",
      "C:\\Users\\jeschj01\\anaconda3\\lib\\site-packages\\ipykernel_launcher.py:8: UserWarning: Saving and overwriting data for:  NY723 AudN \n",
      "\n",
      "  \n"
     ]
    },
    {
     "name": "stdout",
     "output_type": "stream",
     "text": [
      "Found 104 events for NY723 PicN \n",
      "\n",
      "Found 53 events for NY723 VisRead \n",
      "\n"
     ]
    },
    {
     "name": "stderr",
     "output_type": "stream",
     "text": [
      "C:\\Users\\jeschj01\\anaconda3\\lib\\site-packages\\ipykernel_launcher.py:8: UserWarning: Saving and overwriting data for:  NY723 PicN \n",
      "\n",
      "  \n",
      "C:\\Users\\jeschj01\\anaconda3\\lib\\site-packages\\ipykernel_launcher.py:8: UserWarning: Saving and overwriting data for:  NY723 VisRead \n",
      "\n",
      "  \n"
     ]
    },
    {
     "name": "stdout",
     "output_type": "stream",
     "text": [
      "Found 53 events for NY723 SenComp \n",
      "\n"
     ]
    },
    {
     "name": "stderr",
     "output_type": "stream",
     "text": [
      "C:\\Users\\jeschj01\\anaconda3\\lib\\site-packages\\ipykernel_launcher.py:8: UserWarning: Saving and overwriting data for:  NY723 SenComp \n",
      "\n",
      "  \n"
     ]
    }
   ],
   "source": [
    "#creating \"events\" objects for each task\n",
    "for cnt, task in enumerate(tasks):\n",
    "    x = get_subj_globals(SJ,task, root_path=home_path, from_mat=from_mat, matDir=matDir)\n",
    "    time_i = clips_indices[cnt][0]\n",
    "    time_f = clips_indices[cnt][1]\n",
    "    \n",
    "    exec(task+'_events= extract_task_events(trigger_data[0][time_i:time_f],trigger_times[time_i:time_f],task, x.subj, srate = srate, start=time_i, stop=time_f, eventMin=srate)')\n",
    "    warnings.warn(f'Saving and overwriting data for:  {x.subj} {task} \\n')\n",
    "    # you can optimize the task trigger finder by adjusting the eventMin (event minimum length) \n",
    "    #and the trigger threshold\n",
    "   \n",
    "    TE = op.join(x.ANdir, 'events.h5')\n",
    "    hf = h5py.File(TE, 'w')\n",
    "    grp = hf.create_group('Events')\n",
    "    exec('size=np.asarray(np.shape('+task+'_events.onset))')\n",
    "    exec('data=np.asarray('+task+'_events.onset)')\n",
    "    onsets = grp.create_dataset('onset', size, dtype=int, data=data)\n",
    "    \n",
    "    exec('asciiList = [n.encode(\"ascii\", \"ignore\") for n in '+task+'_events.event]')\n",
    "    exec('data=np.asarray(asciiList)')\n",
    "    events = grp.create_dataset('event', size, dtype='S100', data=data)\n",
    "    exec('data=np.asarray('+task+'_events.badevent)')\n",
    "    badevents = grp.create_dataset('badevent', size, dtype=int, data=data)\n",
    "    hf.close()"
   ]
  },
  {
   "cell_type": "code",
   "execution_count": 10,
   "metadata": {
    "scrolled": false
   },
   "outputs": [
    {
     "name": "stderr",
     "output_type": "stream",
     "text": [
      "C:\\Users\\jeschj01\\anaconda3\\lib\\site-packages\\ipykernel_launcher.py:4: UserWarning: Saving and overwriting data for:  NY723 AudRep \n",
      "\n",
      "  after removing the cwd from sys.path.\n"
     ]
    },
    {
     "name": "stdout",
     "output_type": "stream",
     "text": [
      "saving car and reference\n"
     ]
    },
    {
     "name": "stderr",
     "output_type": "stream",
     "text": [
      "C:\\Users\\jeschj01\\anaconda3\\lib\\site-packages\\ipykernel_launcher.py:4: UserWarning: Saving and overwriting data for:  NY723 AudN \n",
      "\n",
      "  after removing the cwd from sys.path.\n"
     ]
    },
    {
     "name": "stdout",
     "output_type": "stream",
     "text": [
      "saving car and reference\n"
     ]
    },
    {
     "name": "stderr",
     "output_type": "stream",
     "text": [
      "C:\\Users\\jeschj01\\anaconda3\\lib\\site-packages\\ipykernel_launcher.py:4: UserWarning: Saving and overwriting data for:  NY723 PicN \n",
      "\n",
      "  after removing the cwd from sys.path.\n"
     ]
    },
    {
     "name": "stdout",
     "output_type": "stream",
     "text": [
      "saving car and reference\n"
     ]
    },
    {
     "name": "stderr",
     "output_type": "stream",
     "text": [
      "C:\\Users\\jeschj01\\anaconda3\\lib\\site-packages\\ipykernel_launcher.py:4: UserWarning: Saving and overwriting data for:  NY723 VisRead \n",
      "\n",
      "  after removing the cwd from sys.path.\n"
     ]
    },
    {
     "name": "stdout",
     "output_type": "stream",
     "text": [
      "saving car and reference\n"
     ]
    },
    {
     "name": "stderr",
     "output_type": "stream",
     "text": [
      "C:\\Users\\jeschj01\\anaconda3\\lib\\site-packages\\ipykernel_launcher.py:4: UserWarning: Saving and overwriting data for:  NY723 SenComp \n",
      "\n",
      "  after removing the cwd from sys.path.\n"
     ]
    },
    {
     "name": "stdout",
     "output_type": "stream",
     "text": [
      "saving car and reference\n"
     ]
    }
   ],
   "source": [
    "#Common average reference applied to data each task\n",
    "for i, task in enumerate(tasks):\n",
    "    g = get_subj_globals(SJ,task, root_path=home_path, from_mat=from_mat, matDir=matDir)\n",
    "    warnings.warn(f'Saving and overwriting data for:  {x.subj} {task} \\n')\n",
    "    create_CAR(SJ, task, x.bad_elecs, home_path) # saves car data for each task\n",
    "    "
   ]
  },
  {
   "cell_type": "code",
   "execution_count": 11,
   "metadata": {
    "scrolled": false
   },
   "outputs": [
    {
     "name": "stderr",
     "output_type": "stream",
     "text": [
      "C:\\Users\\jeschj01\\anaconda3\\lib\\site-packages\\matplotlib\\figure.py:98: MatplotlibDeprecationWarning: \n",
      "Adding an axes using the same arguments as a previous axes currently reuses the earlier instance.  In a future version, a new instance will always be created and returned.  Meanwhile, this warning can be suppressed, and the future behavior ensured, by passing a unique label to each axes instance.\n",
      "  \"Adding an axes using the same arguments as a previous axes \"\n"
     ]
    }
   ],
   "source": [
    "#Creating Plot of all good electrodes for all tasks\n",
    "\n",
    "%matplotlib qt5\n",
    "transparency = .2\n",
    "clrs_r = clrs[::-1]\n",
    "\n",
    "g = get_subj_globals(SJ,tasks[0], root_path=home_path, from_mat=from_mat, matDir=matDir)\n",
    "es = [i for i in g.elecs if i not in g.bad_elecs]\n",
    "\n",
    "# Which electrodes to plot\n",
    "all_elecs = True\n",
    "if all_elecs:\n",
    "    e_init = 1\n",
    "    e_final = len(es)\n",
    "else:\n",
    "    e_init = 132\n",
    "    e_final = 135 ## exclusive\n",
    "\n",
    "# Grid dimensions\n",
    "length= 20 # number of columns in grid plot\n",
    "height = math.ceil(len(es)/length)\n",
    "\n",
    "## leave option to leave out axis markers\n",
    "for i, task in enumerate(tasks[::-1]):\n",
    "\n",
    "    if from_mat==True:\n",
    "        print(from_mat)\n",
    "        labels= hdf5storage.loadmat(op.join(g.DTdir,\"Labels.mat\"))\n",
    "        labels=[i[0] for i in labels['Labels'][0]]\n",
    "\n",
    "    else:\n",
    "        labels = load_h5(op.join(g.DTdir,\"labels.h5\"), \"labels\")\n",
    "        labels = [ch.decode() for ch in labels] #turns label array into list of strings\n",
    "    \n",
    "        car_data = load_h5(op.join(g.DTdir,\"car_data.h5\"), \"car_data\") ## takes about 100 seconds to load\n",
    "    \n",
    "    params = Params('','','','','','','','','')\n",
    "    params.scale = 0.8\n",
    "    params.en = 4000 if clrs[i] in clrs[:2] else 2000 # Shows first 4 seconds of the last 2 tasks\n",
    "\n",
    "    for j in range(e_init, e_final):       \n",
    "    \n",
    "        \n",
    "        t = plot_single(g.subj,task,es[j-1],params, root_path = home_path, f1=70,f2=150,raw=0,gdat='',db=0, from_mat=from_mat, matDir=matDir)\n",
    "        t = my_conv(t,100)\n",
    "        m = np.mean(t, axis = 0)\n",
    "\n",
    "        v = np.arange(params.st, params.en)\n",
    "        plt.subplot(height,length,j-(e_init-1))\n",
    "        plt.title(labels[es[j-1]],pad = -10)\n",
    "\n",
    "        if params.shade_plot:\n",
    "            sem = stats.sem(t, axis = 0)\n",
    "            plt.fill_between(v, m-sem, m+sem, alpha = transparency, color = clrs_r[i])\n",
    "\n",
    "        plt.plot(v, m, color = clrs_r[i])\n",
    "        plt.ylim(-10,175)\n",
    "\n",
    "\n"
   ]
  },
  {
   "cell_type": "code",
   "execution_count": 12,
   "metadata": {},
   "outputs": [
    {
     "name": "stderr",
     "output_type": "stream",
     "text": [
      "C:\\Users\\jeschj01\\anaconda3\\lib\\site-packages\\matplotlib\\tight_layout.py:199: UserWarning: Tight layout not applied. tight_layout cannot make axes width small enough to accommodate all axes decorations\n",
      "  warnings.warn('Tight layout not applied. '\n"
     ]
    }
   ],
   "source": [
    "#Run this to make the plot layout prettier\n",
    "plt.tight_layout()"
   ]
  },
  {
   "cell_type": "code",
   "execution_count": null,
   "metadata": {},
   "outputs": [],
   "source": []
  }
 ],
 "metadata": {
  "kernelspec": {
   "display_name": "Python 3",
   "language": "python",
   "name": "python3"
  },
  "language_info": {
   "codemirror_mode": {
    "name": "ipython",
    "version": 3
   },
   "file_extension": ".py",
   "mimetype": "text/x-python",
   "name": "python",
   "nbconvert_exporter": "python",
   "pygments_lexer": "ipython3",
   "version": "3.7.3"
  }
 },
 "nbformat": 4,
 "nbformat_minor": 2
}
